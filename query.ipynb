{
 "cells": [
  {
   "cell_type": "code",
   "execution_count": 1,
   "metadata": {},
   "outputs": [],
   "source": [
    "from flask import Flask, request, jsonify\n",
    "import pymongo"
   ]
  },
  {
   "cell_type": "code",
   "execution_count": 2,
   "metadata": {},
   "outputs": [],
   "source": [
    "myclient = pymongo.MongoClient(\"mongodb://localhost:27017/\")\n",
    "mydb = myclient[\"web591_db\"]\n",
    "mycol = mydb[\"sites\"]"
   ]
  },
  {
   "cell_type": "code",
   "execution_count": 4,
   "metadata": {},
   "outputs": [],
   "source": [
    "# app = Flask(__name__)\n",
    "\n",
    "# @app.route(\"/\")\n",
    "# def hello():\n",
    "#     return \"<h1>Hello , This a Restful Api Server by Flask...</h1>\""
   ]
  },
  {
   "cell_type": "code",
   "execution_count": 7,
   "metadata": {},
   "outputs": [
    {
     "name": "stdout",
     "output_type": "stream",
     "text": [
      "{'_id': ObjectId('622fa16d559a864d005620e5'), '出租者': '黃先生', '出租者身份': '屋主', '聯絡電話': '0900000', '型態': '公寓', '現況': '獨立套房', '格局': '10坪 1F/4F', '性別要求': '男女生皆可', '區域': '台北'}\n"
     ]
    }
   ],
   "source": [
    "# @app.route('/query', methods=['GET'])\n",
    "def query_591(name, renter, phone_number, sex_requirement, region):\n",
    "    \n",
    "    my_query_para = {'出租者' : name,\n",
    "                     '出租者身份' : renter,\n",
    "                     '聯絡電話' : phone_number,\n",
    "                     '性別要求' : sex_requirement,\n",
    "                     '區域' : region}\n",
    "    mydoc = mycol.find(my_query_para)\n",
    "    return mydoc\n",
    "    \n",
    "data = query_591('黃先生', '屋主', '0900000', '男女生皆可', '台北')\n",
    "for x in data:\n",
    "    print(x)"
   ]
  },
  {
   "cell_type": "code",
   "execution_count": null,
   "metadata": {},
   "outputs": [],
   "source": []
  }
 ],
 "metadata": {
  "kernelspec": {
   "display_name": "Python 3",
   "language": "python",
   "name": "python3"
  },
  "language_info": {
   "codemirror_mode": {
    "name": "ipython",
    "version": 3
   },
   "file_extension": ".py",
   "mimetype": "text/x-python",
   "name": "python",
   "nbconvert_exporter": "python",
   "pygments_lexer": "ipython3",
   "version": "3.6.7"
  }
 },
 "nbformat": 4,
 "nbformat_minor": 2
}
